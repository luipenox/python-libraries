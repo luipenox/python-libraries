{
 "cells": [
  {
   "cell_type": "markdown",
   "source": [
    "Knihovny Python\n",
    "--\n",
    "\n",
    "Materiály ke kurzu\n",
    "\n",
    "0. Instalace virtuálního prostředí\n",
    "1. Opakování základů jazyka (datové struktury, syntaxe)\n",
    "2. Základy HTML a CSS\n",
    "3. Webový klienti (Requests)\n",
    "4. Základy SQL (SQLite)\n",
    "5. Dekorátory\n",
    "6. Flask\n",
    "7. Pandas\n",
    "8. Moduly a balíčkování\n",
    "9. Vlákna\n",
    "10. Testování"
   ],
   "metadata": {
    "collapsed": false
   }
  }
 ],
 "metadata": {
  "kernelspec": {
   "display_name": "Python 3",
   "language": "python",
   "name": "python3"
  },
  "language_info": {
   "codemirror_mode": {
    "name": "ipython",
    "version": 2
   },
   "file_extension": ".py",
   "mimetype": "text/x-python",
   "name": "python",
   "nbconvert_exporter": "python",
   "pygments_lexer": "ipython2",
   "version": "2.7.6"
  }
 },
 "nbformat": 4,
 "nbformat_minor": 0
}